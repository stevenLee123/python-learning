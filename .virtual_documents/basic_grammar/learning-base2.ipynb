


square = lambda x: x**2
square(3)



l = [(lambda x: x*x)(x) for x in range(10)]
# 输出
print(l)
## 按列表中元组的第二个元素进行排序
l = [(1, 20), (3, 0), (9, 10), (2, -1)]
l.sort(key=lambda x: x[1]) # 按列表中元组的第二个元素排序
print(l)
# 输出



# 求平均数
squared = map(lambda x: x**2, [1, 2, 3, 4, 5])
print(list(squared))















