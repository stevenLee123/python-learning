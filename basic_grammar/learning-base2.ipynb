{
 "cells": [
  {
   "cell_type": "markdown",
   "id": "5ef7248b-7a7e-4488-afdc-99d62e27d6b3",
   "metadata": {},
   "source": [
    "### 匿名函数（java中的lambda表达式）"
   ]
  },
  {
   "cell_type": "markdown",
   "id": "645ae5cd",
   "metadata": {},
   "source": [
    "### 使用匿名函数的好处\n",
    "简化函数的定义，当python代码中的函数只有一个地方使用时，可以使用匿名函数来代替python函数的定义，达到简化代码的目的"
   ]
  },
  {
   "cell_type": "code",
   "execution_count": 1,
   "id": "8c041790-41ff-48b7-b76b-70c5e5be2db0",
   "metadata": {},
   "outputs": [
    {
     "data": {
      "text/plain": [
       "9"
      ]
     },
     "execution_count": 1,
     "metadata": {},
     "output_type": "execute_result"
    }
   ],
   "source": [
    "square = lambda x: x**2\n",
    "square(3)\n"
   ]
  },
  {
   "cell_type": "code",
   "execution_count": 3,
   "id": "f10a0cab-cf4d-430f-9169-5a19b936ae1b",
   "metadata": {},
   "outputs": [
    {
     "name": "stdout",
     "output_type": "stream",
     "text": [
      "[0, 1, 4, 9, 16, 25, 36, 49, 64, 81]\n",
      "[(2, -1), (3, 0), (9, 10), (1, 20)]\n"
     ]
    }
   ],
   "source": [
    "l = [(lambda x: x*x)(x) for x in range(10)]\n",
    "# 输出\n",
    "print(l)\n",
    "## 按列表中元组的第二个元素进行排序\n",
    "l = [(1, 20), (3, 0), (9, 10), (2, -1)]\n",
    "l.sort(key=lambda x: x[1]) # 按列表中元组的第二个元素排序\n",
    "print(l)\n",
    "# 输出\n"
   ]
  },
  {
   "cell_type": "code",
   "execution_count": 7,
   "id": "66ba4606-4e54-4d8f-bd52-ce9b7fd09090",
   "metadata": {},
   "outputs": [
    {
     "name": "stdout",
     "output_type": "stream",
     "text": [
      "[1, 4, 9, 16, 25]\n"
     ]
    }
   ],
   "source": [
    "# 求平均数\n",
    "squared = map(lambda x: x**2, [1, 2, 3, 4, 5])\n",
    "print(list(squared))"
   ]
  },
  {
   "cell_type": "markdown",
   "id": "497b4e08",
   "metadata": {},
   "source": [
    "## Tkinter GUI 应用中，"
   ]
  },
  {
   "cell_type": "code",
   "execution_count": 1,
   "id": "5341c773-50e9-4d85-87be-783bcb52f2f7",
   "metadata": {},
   "outputs": [
    {
     "name": "stdout",
     "output_type": "stream",
     "text": [
      "being pressed\n"
     ]
    }
   ],
   "source": [
    "## 使用lambda表达式版本\n",
    "from tkinter import Button, mainloop\n",
    "button = Button(\n",
    "    text='This is a button',\n",
    "    command=lambda: print('being pressed')) # 点击时调用lambda函数\n",
    "button.pack()\n",
    "mainloop()"
   ]
  },
  {
   "cell_type": "code",
   "execution_count": null,
   "id": "f3db9b85",
   "metadata": {},
   "outputs": [],
   "source": [
    "## 使用def定义函数版本\n",
    "from tkinter import Button, mainloop\n",
    "\n",
    "def print_message():\n",
    "    print('being pressed')\n",
    "\n",
    "button = Button(\n",
    "    text='This is a button',\n",
    "    command=print_message) # 点击时调用lambda函数\n",
    "button.pack()\n",
    "mainloop()"
   ]
  },
  {
   "cell_type": "markdown",
   "id": "adc52706",
   "metadata": {},
   "source": [
    "## python的函数式编程\n",
    "所谓函数式编程，是指代码中每一块都是不可变的（immutable），都由纯函数（pure function）的形式组成。这里的纯函数，是指函数本身相互独立、互不影响，对于相同的输入，总会有相同的输出，没有任何副作用。\n",
    "python中提供了map(),filter(),reduce()等函数式编程的函数，这些函数都是高阶函数，可以接受其他函数作为参数。\n",
    "map()函数接受两个参数，第一个参数是函数，第二个参数是可迭代对象，返回一个迭代器。\n",
    "filter() 过滤元素，接受两个参数，第一个参数是函数，第二个参数是可迭代对象，返回一个迭代器。\n",
    "reduce()函数接受两个参数，第一个参数是函数，第二个参数是可迭代对象，返回一个值。\n"
   ]
  },
  {
   "cell_type": "code",
   "execution_count": 2,
   "id": "ad3771b6",
   "metadata": {},
   "outputs": [
    {
     "name": "stdout",
     "output_type": "stream",
     "text": [
      "2\n",
      "4\n",
      "6\n",
      "8\n",
      "10\n"
     ]
    }
   ],
   "source": [
    "for i in map(lambda x:x*2,[1,2,3,4,5]):\n",
    "    print(i)"
   ]
  },
  {
   "cell_type": "code",
   "execution_count": 7,
   "id": "03665371",
   "metadata": {},
   "outputs": [
    {
     "name": "stdout",
     "output_type": "stream",
     "text": [
      "[2, 4]\n"
     ]
    }
   ],
   "source": [
    "l = [1, 2, 3, 4, 5]\n",
    "new_list = filter(lambda x: x % 2 == 0, l) # [2, 4]\n",
    "print(list(new_list))"
   ]
  },
  {
   "cell_type": "code",
   "execution_count": 8,
   "id": "b6383940",
   "metadata": {},
   "outputs": [
    {
     "name": "stdout",
     "output_type": "stream",
     "text": [
      "120\n"
     ]
    }
   ],
   "source": [
    "# 求列表元素中的乘积\n",
    "from functools import reduce\n",
    "l = [1, 2, 3, 4, 5]\n",
    "product = reduce(lambda x, y: x * y, l) # 1*2*3*4*5 = 120\n",
    "print(product)"
   ]
  }
 ],
 "metadata": {
  "kernelspec": {
   "display_name": "Python 3.10.15 ('py-learning')",
   "language": "python",
   "name": "python3"
  },
  "language_info": {
   "codemirror_mode": {
    "name": "ipython",
    "version": 3
   },
   "file_extension": ".py",
   "mimetype": "text/x-python",
   "name": "python",
   "nbconvert_exporter": "python",
   "pygments_lexer": "ipython3",
   "version": "3.10.15"
  },
  "vscode": {
   "interpreter": {
    "hash": "193e80a492fc02d738c6bb225cca70c9daa43468ed19634971eb71a6e38954c0"
   }
  }
 },
 "nbformat": 4,
 "nbformat_minor": 5
}
