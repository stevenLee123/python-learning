{
 "cells": [
  {
   "cell_type": "markdown",
   "metadata": {},
   "source": [
    "## python中的装饰器"
   ]
  },
  {
   "cell_type": "markdown",
   "metadata": {},
   "source": [
    "## python中一切都是对象，函数也是对象，函数可以作为其他函数的参数"
   ]
  },
  {
   "cell_type": "code",
   "execution_count": 1,
   "metadata": {},
   "outputs": [
    {
     "name": "stdout",
     "output_type": "stream",
     "text": [
      "Got a message: hello world\n"
     ]
    }
   ],
   "source": [
    "def func(message):\n",
    "    print('Got a message: {}'.format(message))\n",
    "    \n",
    "send_message = func\n",
    "send_message('hello world')\n",
    "\n",
    "# 输出\n",
    "#Got a message: hello world"
   ]
  },
  {
   "cell_type": "code",
   "execution_count": 3,
   "metadata": {},
   "outputs": [
    {
     "name": "stdout",
     "output_type": "stream",
     "text": [
      "Got a message: hello world\n"
     ]
    }
   ],
   "source": [
    "def get_message(message):\n",
    "    return 'Got a message: ' + message\n",
    "\n",
    "\n",
    "def root_call(func, message):\n",
    "    print(func(message))\n",
    "    \n",
    "root_call(get_message, 'hello world')\n",
    "\n",
    "# 输出\n",
    "#Got a message: hello world"
   ]
  },
  {
   "cell_type": "code",
   "execution_count": 2,
   "metadata": {},
   "outputs": [
    {
     "name": "stdout",
     "output_type": "stream",
     "text": [
      "Got a message: hello world\n"
     ]
    }
   ],
   "source": [
    "# 函数嵌套\n",
    "def func(message):\n",
    "    def get_message(message):\n",
    "        print('Got a message: {}'.format(message))\n",
    "    return get_message(message)\n",
    "\n",
    "func('hello world')\n",
    "\n",
    "# 输出\n",
    "#Got a message: hello world"
   ]
  }
 ],
 "metadata": {
  "kernelspec": {
   "display_name": "python-learning",
   "language": "python",
   "name": "python3"
  },
  "language_info": {
   "codemirror_mode": {
    "name": "ipython",
    "version": 3
   },
   "file_extension": ".py",
   "mimetype": "text/x-python",
   "name": "python",
   "nbconvert_exporter": "python",
   "pygments_lexer": "ipython3",
   "version": "3.11.10"
  }
 },
 "nbformat": 4,
 "nbformat_minor": 2
}
