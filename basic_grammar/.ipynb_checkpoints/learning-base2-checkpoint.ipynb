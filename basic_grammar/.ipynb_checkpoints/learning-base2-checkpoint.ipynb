{
 "cells": [
  {
   "cell_type": "markdown",
   "id": "5ef7248b-7a7e-4488-afdc-99d62e27d6b3",
   "metadata": {},
   "source": [
    "### 匿名函数（java中的lambda表达式）"
   ]
  },
  {
   "cell_type": "code",
   "execution_count": 1,
   "id": "8c041790-41ff-48b7-b76b-70c5e5be2db0",
   "metadata": {},
   "outputs": [
    {
     "data": {
      "text/plain": [
       "9"
      ]
     },
     "execution_count": 1,
     "metadata": {},
     "output_type": "execute_result"
    }
   ],
   "source": [
    "square = lambda x: x**2\n",
    "square(3)\n"
   ]
  },
  {
   "cell_type": "code",
   "execution_count": 3,
   "id": "f10a0cab-cf4d-430f-9169-5a19b936ae1b",
   "metadata": {},
   "outputs": [
    {
     "name": "stdout",
     "output_type": "stream",
     "text": [
      "[0, 1, 4, 9, 16, 25, 36, 49, 64, 81]\n",
      "[(2, -1), (3, 0), (9, 10), (1, 20)]\n"
     ]
    }
   ],
   "source": [
    "l = [(lambda x: x*x)(x) for x in range(10)]\n",
    "# 输出\n",
    "print(l)\n",
    "## 按列表中元组的第二个元素进行排序\n",
    "l = [(1, 20), (3, 0), (9, 10), (2, -1)]\n",
    "l.sort(key=lambda x: x[1]) # 按列表中元组的第二个元素排序\n",
    "print(l)\n",
    "# 输出\n"
   ]
  },
  {
   "cell_type": "code",
   "execution_count": 7,
   "id": "66ba4606-4e54-4d8f-bd52-ce9b7fd09090",
   "metadata": {},
   "outputs": [
    {
     "name": "stdout",
     "output_type": "stream",
     "text": [
      "[1, 4, 9, 16, 25]\n"
     ]
    }
   ],
   "source": [
    "# 求平均数\n",
    "squared = map(lambda x: x**2, [1, 2, 3, 4, 5])\n",
    "print(list(squared))"
   ]
  },
  {
   "cell_type": "code",
   "execution_count": null,
   "id": "5341c773-50e9-4d85-87be-783bcb52f2f7",
   "metadata": {},
   "outputs": [],
   "source": []
  },
  {
   "cell_type": "code",
   "execution_count": null,
   "id": "637fd566-2eeb-4463-8e86-b1cbd0ab56aa",
   "metadata": {},
   "outputs": [],
   "source": []
  },
  {
   "cell_type": "code",
   "execution_count": null,
   "id": "bb62a4ce-c84c-4167-83e1-bcdecd3dfa49",
   "metadata": {},
   "outputs": [],
   "source": []
  },
  {
   "cell_type": "code",
   "execution_count": null,
   "id": "a5b1457b-5541-4d89-9e7f-dc1eef8843a0",
   "metadata": {},
   "outputs": [],
   "source": []
  }
 ],
 "metadata": {
  "kernelspec": {
   "display_name": "Python(python-learning)",
   "language": "python",
   "name": "py-learning"
  },
  "language_info": {
   "codemirror_mode": {
    "name": "ipython",
    "version": 3
   },
   "file_extension": ".py",
   "mimetype": "text/x-python",
   "name": "python",
   "nbconvert_exporter": "python",
   "pygments_lexer": "ipython3",
   "version": "3.10.15"
  }
 },
 "nbformat": 4,
 "nbformat_minor": 5
}
