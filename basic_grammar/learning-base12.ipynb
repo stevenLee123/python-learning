{
 "cells": [
  {
   "cell_type": "markdown",
   "metadata": {},
   "source": [
    "### 其他常见示例"
   ]
  },
  {
   "cell_type": "code",
   "execution_count": null,
   "metadata": {},
   "outputs": [],
   "source": [
    "# 网络请求\n",
    "########## GEMINI行情接口 ##########\n",
    "## https://api.gemini.com/v1/pubticker/:symbol\n",
    "\n",
    "import json\n",
    "import requests\n",
    "\n",
    "gemini_ticker = 'https://api.gemini.com/v1/pubticker/{}'\n",
    "symbol = 'btcusd'\n",
    "btc_data = requests.get(gemini_ticker.format(symbol)).json()\n",
    "print(json.dumps(btc_data, indent=4))\n",
    "\n",
    "########## 输出 ##########\n"
   ]
  },
  {
   "cell_type": "code",
   "execution_count": 4,
   "metadata": {},
   "outputs": [
    {
     "ename": "KeyError",
     "evalue": "'result'",
     "output_type": "error",
     "traceback": [
      "\u001b[1;31m---------------------------------------------------------------------------\u001b[0m",
      "\u001b[1;31mKeyError\u001b[0m                                  Traceback (most recent call last)",
      "Cell \u001b[1;32mIn[4], line 17\u001b[0m\n\u001b[0;32m     13\u001b[0m data \u001b[38;5;241m=\u001b[39m resp\u001b[38;5;241m.\u001b[39mjson()\n\u001b[0;32m     15\u001b[0m \u001b[38;5;66;03m# 转换成pandas data frame\u001b[39;00m\n\u001b[0;32m     16\u001b[0m df \u001b[38;5;241m=\u001b[39m pd\u001b[38;5;241m.\u001b[39mDataFrame(\n\u001b[1;32m---> 17\u001b[0m   \u001b[43mdata\u001b[49m\u001b[43m[\u001b[49m\u001b[38;5;124;43m'\u001b[39;49m\u001b[38;5;124;43mresult\u001b[39;49m\u001b[38;5;124;43m'\u001b[39;49m\u001b[43m]\u001b[49m[periods], \n\u001b[0;32m     18\u001b[0m   columns\u001b[38;5;241m=\u001b[39m[\n\u001b[0;32m     19\u001b[0m     \u001b[38;5;124m'\u001b[39m\u001b[38;5;124mCloseTime\u001b[39m\u001b[38;5;124m'\u001b[39m,\n\u001b[0;32m     20\u001b[0m     \u001b[38;5;124m'\u001b[39m\u001b[38;5;124mOpenPrice\u001b[39m\u001b[38;5;124m'\u001b[39m,\n\u001b[0;32m     21\u001b[0m     \u001b[38;5;124m'\u001b[39m\u001b[38;5;124mHighPrice\u001b[39m\u001b[38;5;124m'\u001b[39m,\n\u001b[0;32m     22\u001b[0m     \u001b[38;5;124m'\u001b[39m\u001b[38;5;124mLowPrice\u001b[39m\u001b[38;5;124m'\u001b[39m,\n\u001b[0;32m     23\u001b[0m     \u001b[38;5;124m'\u001b[39m\u001b[38;5;124mClosePrice\u001b[39m\u001b[38;5;124m'\u001b[39m,\n\u001b[0;32m     24\u001b[0m     \u001b[38;5;124m'\u001b[39m\u001b[38;5;124mVolume\u001b[39m\u001b[38;5;124m'\u001b[39m,\n\u001b[0;32m     25\u001b[0m     \u001b[38;5;124m'\u001b[39m\u001b[38;5;124mNA\u001b[39m\u001b[38;5;124m'\u001b[39m])\n\u001b[0;32m     27\u001b[0m \u001b[38;5;66;03m# 输出DataFrame的头部几行\u001b[39;00m\n\u001b[0;32m     28\u001b[0m \u001b[38;5;28mprint\u001b[39m(df\u001b[38;5;241m.\u001b[39mhead())\n",
      "\u001b[1;31mKeyError\u001b[0m: 'result'"
     ]
    }
   ],
   "source": [
    "import matplotlib.pyplot as plt\n",
    "import pandas as pd\n",
    "import requests\n",
    "\n",
    "# 选择要获取的数据时间段\n",
    "periods = '3600'\n",
    "\n",
    "# 通过Http抓取btc历史价格数据\n",
    "resp = requests.get('https://api.cryptowat.ch/markets/gemini/btcusd/ohlc', \n",
    "  params={\n",
    "    'periods': periods\n",
    "  })\n",
    "data = resp.json()\n",
    "\n",
    "# 转换成pandas data frame\n",
    "df = pd.DataFrame(\n",
    "  data['result'][periods], \n",
    "  columns=[\n",
    "    'CloseTime',\n",
    "    'OpenPrice',\n",
    "    'HighPrice',\n",
    "    'LowPrice',\n",
    "    'ClosePrice',\n",
    "    'Volume',\n",
    "    'NA'])\n",
    "\n",
    "# 输出DataFrame的头部几行\n",
    "print(df.head())\n",
    "\n",
    "# 绘制btc价格曲线\n",
    "df['ClosePrice'].plot(figsize=(14, 7))\n",
    "plt.show()\n",
    "\n",
    "\n",
    "########### 输出 ###############\n"
   ]
  }
 ],
 "metadata": {
  "kernelspec": {
   "display_name": "python-learning",
   "language": "python",
   "name": "python3"
  },
  "language_info": {
   "codemirror_mode": {
    "name": "ipython",
    "version": 3
   },
   "file_extension": ".py",
   "mimetype": "text/x-python",
   "name": "python",
   "nbconvert_exporter": "python",
   "pygments_lexer": "ipython3",
   "version": "3.11.10"
  }
 },
 "nbformat": 4,
 "nbformat_minor": 2
}
