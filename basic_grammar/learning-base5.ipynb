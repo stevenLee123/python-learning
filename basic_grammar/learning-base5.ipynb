{
 "cells": [
  {
   "cell_type": "markdown",
   "metadata": {},
   "source": [
    "## 对象比较、浅拷贝与深拷贝"
   ]
  },
  {
   "cell_type": "markdown",
   "metadata": {},
   "source": [
    "## 对象比较 == is \n",
    "* '=='操作符比较对象之间的值是否相等，比如下面的例子，表示比较变量 a 和 b 所指向的值是否相等。\n",
    "* 而'is'操作符比较的是对象的身份标识是否相等，即它们是否是同一个对象，是否指向同一个内存地址。\n",
    "* == 在java中比较的是对象的内存地址是否相等\n",
    "* equals 在java中比较的是对象指定的比较项是否相等\n",
    "* 对于整型数字来说，以下a is b为 True 的结论，只适用于 -5 到 256 范围内的数字。\n",
    "* Python 内部会对 -5 到 256 的整型维持一个数组，起到一个缓存的作用。这样，每次你试图创建一个 -5 到 256 范围内的整型数字时，Python 都会从这个数组中返回相对应的引用，而不是重新开辟一块新的内存空间。\n",
    "* 当我们比较一个变量与一个单例（singleton）时，通常会使用'is'。\n",
    "* 比较操作符'is'的速度效率，通常要优于'=='\n",
    "* 比较操作符'is'效率优于'=='，因为'is'操作符无法被重载，执行'is'操作只是简单的获取对象的 ID，并进行比较；而'=='操作符则会递归地遍历对象的所有值，并逐一比较。"
   ]
  },
  {
   "cell_type": "code",
   "execution_count": null,
   "metadata": {},
   "outputs": [
    {
     "name": "stdout",
     "output_type": "stream",
     "text": [
      "True\n",
      "2543294387312\n",
      "2543294396080\n",
      "False\n"
     ]
    }
   ],
   "source": [
    "a = 257\n",
    "# a = 10\n",
    "b = 257\n",
    "# b = 10\n",
    "\n",
    "print(a == b)\n",
    "\n",
    "\n",
    "print(id(a))\n",
    "print(id(b))\n",
    "\n",
    "print(a is b)\n",
    "\n"
   ]
  },
  {
   "cell_type": "markdown",
   "metadata": {},
   "source": [
    "## 深拷贝、浅拷贝\n",
    "* 常见的浅拷贝的方法，是使用数据类型本身的构造器，例如list，dict,set等。\n",
    "* 对于可变的序列，我们还可以通过切片操作符':'完成浅拷贝"
   ]
  },
  {
   "cell_type": "code",
   "execution_count": 1,
   "metadata": {},
   "outputs": [
    {
     "name": "stdout",
     "output_type": "stream",
     "text": [
      "True\n",
      "True\n",
      "True\n",
      "False\n",
      "{1, 2, 3}\n",
      "True\n",
      "False\n"
     ]
    }
   ],
   "source": [
    "l1 = [1, 2, 3]\n",
    "l2 = list(l1)\n",
    "l3 = l1[:]\n",
    "\n",
    "\n",
    "[1, 2, 3]\n",
    "\n",
    "print(l1 == l2)\n",
    "print(l1 == l3)\n",
    "print(l3 == l2)\n",
    "\n",
    "print(l1 is l2)\n",
    "\n",
    "s1 = set([1, 2, 3])\n",
    "s2 = set(s1)\n",
    "\n",
    "print(s2)\n",
    "\n",
    "print(s1 == s2)\n",
    "\n",
    "print(s1 is s2)\n",
    "\n"
   ]
  },
  {
   "cell_type": "markdown",
   "metadata": {},
   "source": [
    "## copy.copy()，适用于任何数据类型的浅拷贝"
   ]
  },
  {
   "cell_type": "code",
   "execution_count": 2,
   "metadata": {},
   "outputs": [
    {
     "name": "stdout",
     "output_type": "stream",
     "text": [
      "True\n",
      "False\n"
     ]
    }
   ],
   "source": [
    "import copy\n",
    "l1 = [1, 2, 3]\n",
    "l2 = copy.copy(l1)\n",
    "print(l1 == l2)\n",
    "print(l1 is l2)"
   ]
  },
  {
   "cell_type": "markdown",
   "metadata": {},
   "source": [
    "## 对于元组，使用 tuple() 或者切片操作符':'不会创建一份浅拷贝，而是会返回一个指向相同元组的引用."
   ]
  },
  {
   "cell_type": "code",
   "execution_count": 8,
   "metadata": {},
   "outputs": [
    {
     "name": "stdout",
     "output_type": "stream",
     "text": [
      "True\n",
      "True\n",
      "True\n",
      "True\n"
     ]
    }
   ],
   "source": [
    "import copy\n",
    "t1 = (1, 2, 3)\n",
    "t2 = tuple(t1)\n",
    "t3 = copy.copy(t1)\n",
    "\n",
    "print(t1 == t2)\n",
    "\n",
    "print(t1 is t2)\n",
    "\n",
    "print(t1 == t3)\n",
    "\n",
    "print(t1 is t3)"
   ]
  },
  {
   "cell_type": "markdown",
   "metadata": {},
   "source": [
    "## 浅拷贝要注意的点"
   ]
  },
  {
   "cell_type": "code",
   "execution_count": null,
   "metadata": {},
   "outputs": [
    {
     "name": "stdout",
     "output_type": "stream",
     "text": [
      "[[1, 2, 3], (30, 40), 100]\n",
      "[[1, 2, 3], (30, 40)]\n",
      "[[1, 2, 3], (30, 40, 50, 60), 100]\n",
      "[[1, 2, 3], (30, 40)]\n"
     ]
    },
    {
     "data": {
      "text/plain": [
       "[[1, 2, 3], (30, 40)]"
      ]
     },
     "execution_count": 9,
     "metadata": {},
     "output_type": "execute_result"
    }
   ],
   "source": [
    "l1 = [[1, 2], (30, 40)]\n",
    "l2 = list(l1)\n",
    "l1.append(100)\n",
    "l1[0].append(3)\n",
    "\n",
    "print(l1)\n",
    "# [[1, 2, 3], (30, 40), 100]\n",
    "\n",
    "print(l2)\n",
    "# [[1, 2, 3], (30, 40)]\n",
    "\n",
    "l1[1] += (50, 60)\n",
    "print(l1)\n",
    "#[[1, 2, 3], (30, 40, 50, 60), 100]\n",
    "\n",
    "print(l2)\n",
    "#[[1, 2, 3], (30, 40)]"
   ]
  },
  {
   "cell_type": "markdown",
   "metadata": {},
   "source": [
    "## Python 中以 copy.deepcopy() 来实现对象的深度拷贝"
   ]
  },
  {
   "cell_type": "code",
   "execution_count": 10,
   "metadata": {},
   "outputs": [
    {
     "name": "stdout",
     "output_type": "stream",
     "text": [
      "[[1, 2, 3], (30, 40), 100]\n",
      "[[1, 2], (30, 40)]\n"
     ]
    }
   ],
   "source": [
    "import copy\n",
    "l1 = [[1, 2], (30, 40)]\n",
    "l2 = copy.deepcopy(l1)\n",
    "l1.append(100)\n",
    "l1[0].append(3)\n",
    "\n",
    "print(l1)\n",
    "# [[1, 2, 3], (30, 40), 100]\n",
    "\n",
    "print(l2) \n",
    "# [[1, 2], (30, 40)]"
   ]
  },
  {
   "cell_type": "markdown",
   "metadata": {},
   "source": [
    "## 如果被拷贝对象中存在指向自身的引用，那么程序很容易陷入无限循环"
   ]
  },
  {
   "cell_type": "code",
   "execution_count": 11,
   "metadata": {},
   "outputs": [
    {
     "name": "stdout",
     "output_type": "stream",
     "text": [
      "[1, [...]]\n",
      "[1, [...]]\n"
     ]
    }
   ],
   "source": [
    "import copy\n",
    "x = [1]\n",
    "x.append(x)\n",
    "\n",
    "print(x)\n",
    "# [1, [...]]\n",
    "\n",
    "y = copy.deepcopy(x)\n",
    "print(y)\n",
    "#[1, [...]]"
   ]
  },
  {
   "cell_type": "markdown",
   "metadata": {},
   "source": [
    "## 值传递与引用传递\n",
    "* 所谓值传递，通常就是拷贝参数的值，然后传递给函数里的新变量。这样，原变量和新变量之间互相独立，互不影响。\n",
    "* 所谓引用传递，通常是指把参数的引用传给新的变量，这样，原变量和新变量就会指向同一块内存地址。如果改变了其中任何一个变量的值，那么另外一个变量也会相应地随之改变。\n",
    "* Python 的参数传递是赋值传递 （pass by assignment），或者叫作对象的引用传递（pass by object reference）。Python 里所有的数据类型都是对象，所以参数传递时，只是让新变量与原变量指向相同的对象而已，并不存在值传递或是引用传递一说。"
   ]
  },
  {
   "cell_type": "code",
   "execution_count": null,
   "metadata": {},
   "outputs": [
    {
     "name": "stdout",
     "output_type": "stream",
     "text": [
      "a:2, b:1\n"
     ]
    }
   ],
   "source": [
    "## Python 的数据类型，例如整型（int）、字符串（string）等等，是不可变的。\n",
    "a = 1\n",
    "#b = a，并不表示重新创建了新对象，只是让同一个对象被多个变量指向或引用。\n",
    "b = a\n",
    "#重新创建了一个新的值为 2 的对象，并让 a 指向它\n",
    "a = a + 1\n",
    "print(\"a:{}, b:{}\".format(a, b))"
   ]
  },
  {
   "cell_type": "code",
   "execution_count": 13,
   "metadata": {},
   "outputs": [
    {
     "name": "stdout",
     "output_type": "stream",
     "text": [
      "[1, 2, 3, 4]\n",
      "[1, 2, 3, 4]\n"
     ]
    }
   ],
   "source": [
    "l1 = [1, 2, 3]\n",
    "l2 = l1\n",
    "l1.append(4)\n",
    "print(l1)\n",
    "#[1, 2, 3, 4]\n",
    "print(l2)\n",
    "#[1, 2, 3, 4]"
   ]
  },
  {
   "cell_type": "markdown",
   "metadata": {},
   "source": [
    "## Python 里的变量可以被删除，但是对象无法被删除"
   ]
  },
  {
   "cell_type": "code",
   "execution_count": null,
   "metadata": {},
   "outputs": [],
   "source": [
    "#del l 删除了 l 这个变量，从此以后你无法访问 l，但是对象[1, 2, 3]仍然存在。\n",
    "# Python 程序运行时，其自带的垃圾回收系统会跟踪每个对象的引用。如果[1, 2, 3]除了 l 外，还在其他地方被引用，那就不会被回收，反之则会被回收。\n",
    "l = [1, 2, 3]\n",
    "del l"
   ]
  },
  {
   "cell_type": "code",
   "execution_count": null,
   "metadata": {},
   "outputs": [
    {
     "name": "stdout",
     "output_type": "stream",
     "text": [
      "1\n"
     ]
    }
   ],
   "source": [
    "def my_func1(b):\n",
    "  # 将b的引用指向了一个新的对象\n",
    "  b = 2\n",
    "\n",
    "a = 1\n",
    "my_func1(a)\n",
    "print(a)\n"
   ]
  },
  {
   "cell_type": "code",
   "execution_count": 16,
   "metadata": {},
   "outputs": [
    {
     "name": "stdout",
     "output_type": "stream",
     "text": [
      "[1, 2, 3, 4]\n"
     ]
    }
   ],
   "source": [
    "def my_func3(l2):\n",
    "  # 由于l1,l2 指向可变对象，可变对象改变l1的值也随之改变\n",
    "  l2.append(4)\n",
    "\n",
    "l1 = [1, 2, 3]\n",
    "my_func3(l1)\n",
    "print(l1)\n",
    "#[1, 2, 3, 4]"
   ]
  },
  {
   "cell_type": "code",
   "execution_count": 17,
   "metadata": {},
   "outputs": [
    {
     "name": "stdout",
     "output_type": "stream",
     "text": [
      "[1, 2, 3]\n"
     ]
    }
   ],
   "source": [
    "def my_func4(l2):\n",
    "  # l2 被赋予了新的值，不会改变l1的值\n",
    "  l2 = l2 + [4]\n",
    "\n",
    "l1 = [1, 2, 3]\n",
    "my_func4(l1)\n",
    "print(l1)\n",
    "#[1, 2, 3]"
   ]
  },
  {
   "cell_type": "code",
   "execution_count": null,
   "metadata": {},
   "outputs": [
    {
     "name": "stdout",
     "output_type": "stream",
     "text": [
      "True\n",
      "False\n",
      "True\n",
      "False\n",
      "{'a': 10, 'b': 20}\n"
     ]
    }
   ],
   "source": [
    "l1 = [1, 2, 3]\n",
    "l2 = [1, 2, 3] # 可变对象每次创建都会分配新的内存地址\n",
    "l3 = l2\n",
    "print(l1 == l2)\n",
    "print(l1 is l2)\n",
    "print(l2 is l3)\n",
    "print(l1 is l3)\n",
    "def func(d):\n",
    "    d['a'] = 10\n",
    "    d['b'] = 20\n",
    "\n",
    "d = {'a': 1, 'b': 2}\n",
    "func(d)\n",
    "print(d)"
   ]
  }
 ],
 "metadata": {
  "kernelspec": {
   "display_name": "python-learning",
   "language": "python",
   "name": "python3"
  },
  "language_info": {
   "codemirror_mode": {
    "name": "ipython",
    "version": 3
   },
   "file_extension": ".py",
   "mimetype": "text/x-python",
   "name": "python",
   "nbconvert_exporter": "python",
   "pygments_lexer": "ipython3",
   "version": "3.11.10"
  }
 },
 "nbformat": 4,
 "nbformat_minor": 2
}
