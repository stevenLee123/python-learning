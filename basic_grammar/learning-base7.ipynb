{
 "cells": [
  {
   "cell_type": "markdown",
   "metadata": {},
   "source": [
    "## metaclass\n",
    "* 元类，超越变形特性"
   ]
  },
  {
   "cell_type": "code",
   "execution_count": null,
   "metadata": {},
   "outputs": [],
   "source": [
    "import yaml\n",
    "\n",
    "class Monster(yaml.YAMLObject):\n",
    "  yaml_tag = u'!Monster'\n",
    "  def __init__(self, name, hp, ac, attacks):\n",
    "    self.name = name\n",
    "    self.hp = hp\n",
    "    self.ac = ac\n",
    "    self.attacks = attacks\n",
    "  def __repr__(self):\n",
    "    return \"%s(name=%r, hp=%r, ac=%r, attacks=%r)\" % (\n",
    "       self.__class__.__name__, self.name, self.hp, self.ac,      \n",
    "       self.attacks)\n",
    "\n",
    "yaml.load(\"\"\"\n",
    "--- !Monster\n",
    "name: Cave spider\n",
    "hp: [2,6]    # 2d6\n",
    "ac: 16\n",
    "attacks: [BITE, HURT]\n",
    "\"\"\")\n",
    "\n",
    "Monster(name='Cave spider', hp=[2, 6], ac=16, attacks=['BITE', 'HURT'])\n",
    "\n",
    "print(yaml.dump(Monster(\n",
    "    name='Cave lizard', hp=[3,6], ac=16, attacks=['BITE','HURT'])))\n",
    "\n",
    "# 输出"
   ]
  },
  {
   "cell_type": "code",
   "execution_count": 5,
   "metadata": {},
   "outputs": [
    {
     "name": "stdout",
     "output_type": "stream",
     "text": [
      "<class '__main__.MyClass'>\n",
      "<class 'type'>\n"
     ]
    }
   ],
   "source": [
    "# Python 3和Python 2类似\n",
    "class MyClass:\n",
    "  pass\n",
    "\n",
    "instance = MyClass()\n",
    "\n",
    "print(type(instance))\n",
    "# 输出\n",
    "\n",
    "\n",
    "print(type(MyClass))\n",
    "# 输出\n"
   ]
  }
 ],
 "metadata": {
  "kernelspec": {
   "display_name": "Python 3",
   "language": "python",
   "name": "python3"
  },
  "language_info": {
   "codemirror_mode": {
    "name": "ipython",
    "version": 3
   },
   "file_extension": ".py",
   "mimetype": "text/x-python",
   "name": "python",
   "nbconvert_exporter": "python",
   "pygments_lexer": "ipython3",
   "version": "3.11.9"
  },
  "orig_nbformat": 4
 },
 "nbformat": 4,
 "nbformat_minor": 2
}
