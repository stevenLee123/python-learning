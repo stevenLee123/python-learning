{
 "cells": [
  {
   "cell_type": "markdown",
   "metadata": {},
   "source": [
    "### 文件输入输出实现\n",
    "获取文本中单词的数量统计"
   ]
  },
  {
   "cell_type": "code",
   "execution_count": 6,
   "metadata": {},
   "outputs": [
    {
     "name": "stdout",
     "output_type": "stream",
     "text": [
      "[('and', 15), ('be', 13), ('will', 11), ('to', 11), ('the', 10), ('of', 10), ('a', 8), ('we', 8), ('day', 6), ('able', 6), ('every', 6), ('together', 6), ('i', 5), ('have', 5), ('dream', 5), ('that', 5), ('one', 5), ('with', 5), ('this', 5), ('in', 4), ('shall', 4), ('free', 4), ('when', 4), ('little', 3), ('black', 3), ('white', 3), ('made', 3), ('faith', 3), ('at', 3), ('last', 3), ('children', 2), ('nation', 2), ('by', 2), ('their', 2), ('today', 2), ('alabama', 2), ('boys', 2), ('girls', 2), ('join', 2), ('hands', 2), ('mountain', 2), ('places', 2), ('all', 2), ('it', 2), ('our', 2), ('hope', 2), ('up', 2), ('freedom', 2), ('ring', 2), ('from', 2), ('god', 2), ('men', 2), ('my', 1), ('four', 1), ('live', 1), ('where', 1), ('they', 1), ('not', 1), ('judged', 1), ('color', 1), ('skin', 1), ('but', 1), ('content', 1), ('character', 1), ('down', 1), ('its', 1), ('vicious', 1), ('racists', 1), ('right', 1), ('there', 1), ('as', 1), ('sisters', 1), ('brothers', 1), ('valley', 1), ('exalted', 1), ('hill', 1), ('low', 1), ('rough', 1), ('plain', 1), ('crooked', 1), ('straight', 1), ('glory', 1), ('lord', 1), ('revealed', 1), ('flesh', 1), ('see', 1), ('is', 1), ('hew', 1), ('out', 1), ('despair', 1), ('stone', 1), ('transform', 1), ('jangling', 1), ('discords', 1), ('into', 1), ('beautiful', 1), ('symphony', 1), ('brotherhood', 1), ('work', 1), ('pray', 1), ('struggle', 1), ('go', 1), ('jail', 1), ('stand', 1), ('for', 1), ('knowing', 1), ('happens', 1), ('allow', 1), ('let', 1), ('village', 1), ('hamlet', 1), ('state', 1), ('city', 1), ('speed', 1), ('s', 1), ('jews', 1), ('gentiles', 1), ('protestants', 1), ('catholics', 1), ('sing', 1), ('words', 1), ('old', 1), ('negro', 1), ('spiritual', 1), ('thank', 1), ('almighty', 1), ('are', 1)]\n"
     ]
    }
   ],
   "source": [
    "import re\n",
    "\n",
    "# 你不用太关心这个函数\n",
    "def parse(text):\n",
    "    # 使用正则表达式去除标点符号和换行符\n",
    "    text = re.sub(r'[^\\w ]', ' ', text)\n",
    "\n",
    "    # 转为小写\n",
    "    text = text.lower()\n",
    "    \n",
    "    # 生成所有单词的列表\n",
    "    word_list = text.split(' ')\n",
    "    \n",
    "    # 去除空白单词\n",
    "    word_list = filter(None, word_list)\n",
    "    \n",
    "    # 生成单词和词频的字典\n",
    "    word_cnt = {}\n",
    "    for word in word_list:\n",
    "        if word not in word_cnt:\n",
    "            word_cnt[word] = 0\n",
    "        word_cnt[word] += 1\n",
    "    \n",
    "    # 按照词频排序\n",
    "    sorted_word_cnt = sorted(word_cnt.items(), key=lambda kv: kv[1], reverse=True)\n",
    "    \n",
    "    return sorted_word_cnt\n",
    "\n",
    "with open('in.txt', 'r') as fin:\n",
    "    text = fin.read()\n",
    "\n",
    "word_and_freq = parse(text)\n",
    "\n",
    "with open('out.txt', 'w') as fout:\n",
    "    for word, freq in word_and_freq:\n",
    "        fout.write('{} {}\\n'.format(word, freq))\n",
    "print(word_and_freq)\n",
    "########## 输出(省略较长的中间结果) ##########\n"
   ]
  },
  {
   "cell_type": "markdown",
   "metadata": {},
   "source": [
    "### json序列化"
   ]
  },
  {
   "cell_type": "code",
   "execution_count": 7,
   "metadata": {},
   "outputs": [
    {
     "name": "stdout",
     "output_type": "stream",
     "text": [
      "after json serialization\n",
      "type of params_str = <class 'str'>, params_str = {'symbol': '123456', 'type': 'limit', 'price': 123.4, 'amount': 23}\n",
      "after json deserialization\n",
      "type of original_params = <class 'dict'>, original_params = {'symbol': '123456', 'type': 'limit', 'price': 123.4, 'amount': 23}\n"
     ]
    }
   ],
   "source": [
    "import json\n",
    "\n",
    "params = {\n",
    "    'symbol': '123456',\n",
    "    'type': 'limit',\n",
    "    'price': 123.4,\n",
    "    'amount': 23\n",
    "}\n",
    "\n",
    "params_str = json.dumps(params)\n",
    "\n",
    "print('after json serialization')\n",
    "print('type of params_str = {}, params_str = {}'.format(type(params_str), params))\n",
    "\n",
    "original_params = json.loads(params_str)\n",
    "\n",
    "print('after json deserialization')\n",
    "print('type of original_params = {}, original_params = {}'.format(type(original_params), original_params))\n",
    "\n",
    "########## 输出 ##########\n"
   ]
  },
  {
   "cell_type": "markdown",
   "metadata": {},
   "source": [
    "### 序列化与反序列化文件"
   ]
  },
  {
   "cell_type": "code",
   "execution_count": 9,
   "metadata": {},
   "outputs": [
    {
     "name": "stdout",
     "output_type": "stream",
     "text": [
      "after json deserialization\n",
      "type of original_params = <class 'dict'>, original_params = {'symbol': '123456', 'type': 'limit', 'price': 123.4, 'amount': 23}\n"
     ]
    }
   ],
   "source": [
    "import json\n",
    "\n",
    "params = {\n",
    "    'symbol': '123456',\n",
    "    'type': 'limit',\n",
    "    'price': 123.4,\n",
    "    'amount': 23\n",
    "}\n",
    "\n",
    "with open('params.json', 'w') as fout:\n",
    "    params_str = json.dump(params, fout)\n",
    "\n",
    "with open('params.json', 'r') as fin:\n",
    "    original_params = json.load(fin)\n",
    "\n",
    "print('after json deserialization')\n",
    "print('type of original_params = {}, original_params = {}'.format(type(original_params), original_params))\n",
    "\n",
    "########## 输出 ##########\n",
    "\n"
   ]
  },
  {
   "cell_type": "markdown",
   "metadata": {},
   "source": [
    "### 条件语句"
   ]
  },
  {
   "cell_type": "code",
   "execution_count": 11,
   "metadata": {},
   "outputs": [
    {
     "name": "stdout",
     "output_type": "stream",
     "text": [
      "3\n",
      "green\n"
     ]
    }
   ],
   "source": [
    "x = 3\n",
    "y = 0\n",
    "# y = |x|\n",
    "if x < 0:\n",
    "    y = -x\n",
    "else:\n",
    "    y = x\n",
    "print(y) \n",
    "\n",
    "if id == 0:\n",
    "    print('red')\n",
    "elif id == 1:\n",
    "    print('yellow')\n",
    "else:\n",
    "    print('green')  "
   ]
  },
  {
   "cell_type": "markdown",
   "metadata": {},
   "source": [
    "### 循环语句"
   ]
  },
  {
   "cell_type": "code",
   "execution_count": 14,
   "metadata": {},
   "outputs": [
    {
     "name": "stdout",
     "output_type": "stream",
     "text": [
      "name\n",
      "dob\n",
      "gender\n",
      "jason\n",
      "2000-01-01\n",
      "male\n",
      "key: name, value: jason\n",
      "key: dob, value: 2000-01-01\n",
      "key: gender, value: male\n",
      "1\n",
      "2\n",
      "3\n",
      "4\n",
      "5\n",
      "1\n",
      "2\n",
      "3\n",
      "4\n",
      "5\n"
     ]
    }
   ],
   "source": [
    "d = {'name': 'jason', 'dob': '2000-01-01', 'gender': 'male'}\n",
    "for k in d: # 遍历字典的键\n",
    "    print(k)\n",
    "\n",
    "\n",
    "for v in d.values(): # 遍历字典的值\n",
    "    print(v)\n",
    "\n",
    "for k, v in d.items(): # 遍历字典的键值对\n",
    "    print('key: {}, value: {}'.format(k, v))\n",
    "\n",
    "l = [1, 2, 3, 4, 5, 6, 7]\n",
    "for index in range(0, len(l)):\n",
    "    if index < 5:\n",
    "        print(l[index])        \n",
    "        \n",
    "l = [1, 2, 3, 4, 5, 6, 7]\n",
    "for index, item in enumerate(l):\n",
    "    if index < 5:\n",
    "        print(item)  \n",
    "              \n"
   ]
  },
  {
   "cell_type": "markdown",
   "metadata": {},
   "source": [
    "### while循环"
   ]
  },
  {
   "cell_type": "code",
   "execution_count": 17,
   "metadata": {},
   "outputs": [
    {
     "name": "stdout",
     "output_type": "stream",
     "text": [
      "Exit system\n"
     ]
    }
   ],
   "source": [
    "while True:\n",
    "    try:\n",
    "        text = 'q'\n",
    "        if text == 'q':\n",
    "            print('Exit system')\n",
    "            break\n",
    "\n",
    "    except Exception as err:\n",
    "        print('Encountered error: {}'.format(err))\n",
    "        break "
   ]
  },
  {
   "cell_type": "markdown",
   "metadata": {},
   "source": [
    "while的效率远比range()低"
   ]
  },
  {
   "cell_type": "code",
   "execution_count": 18,
   "metadata": {},
   "outputs": [
    {
     "name": "stdout",
     "output_type": "stream",
     "text": [
      "0.03899812698364258\n",
      "0.01650714874267578\n"
     ]
    }
   ],
   "source": [
    "import time\n",
    "start_time = time.time()\n",
    "i = 0\n",
    "while i < 1000000:\n",
    "    i += 1\n",
    "end_time = time.time()\n",
    "print(end_time - start_time)\n",
    "\n",
    "start_time = time.time()\n",
    "for i in range(1000000):\n",
    "    pass\n",
    "end_time = time.time()\n",
    "print(end_time - start_time)\n",
    "    \n",
    "\n",
    "    "
   ]
  },
  {
   "cell_type": "markdown",
   "metadata": {},
   "source": [
    "### 嵌套复杂逻辑"
   ]
  },
  {
   "cell_type": "code",
   "execution_count": 19,
   "metadata": {},
   "outputs": [
    {
     "name": "stdout",
     "output_type": "stream",
     "text": [
      "['Today', 'Sunday']\n"
     ]
    }
   ],
   "source": [
    "text = ' Today,  is, Sunday'\n",
    "text_list = [s.strip() for s in text.split(',') if len(s.strip()) > 3]\n",
    "print(text_list)"
   ]
  }
 ],
 "metadata": {
  "kernelspec": {
   "display_name": "Python 3",
   "language": "python",
   "name": "python3"
  },
  "language_info": {
   "codemirror_mode": {
    "name": "ipython",
    "version": 3
   },
   "file_extension": ".py",
   "mimetype": "text/x-python",
   "name": "python",
   "nbconvert_exporter": "python",
   "pygments_lexer": "ipython3",
   "version": "3.11.9"
  }
 },
 "nbformat": 4,
 "nbformat_minor": 2
}
