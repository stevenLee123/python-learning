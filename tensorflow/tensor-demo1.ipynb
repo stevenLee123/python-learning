{
 "cells": [
  {
   "cell_type": "markdown",
   "metadata": {},
   "source": [
    "### 张量tensor的概念\n",
    "Tensor 是深度学习框架中极为基础的概念，也是 PyTroch、TensorFlow 中最重要的知识点之一，它是一种数据的存储和处理结构。\n",
    "#### 几个概念\n",
    "* 标量，也称 Scalar，是一个只有大小，没有方向的量，比如 1.8、e、10 等\n",
    "* 向量，也称 Vector，是一个有大小也有方向的量，比如 (1,2,3,4) 等。\n",
    "* 矩阵，也称 Matrix，是多个向量合并在一起得到的量，比如[(1,2,3),(4,5,6)]等。\n",
    "* 张量 (Tensor) 可以统一标量、向量、矩阵的概念\n",
    "* Tensor 的概念中，使用 Rank（秩）来表示这种“维度”，标量，就是 Rank 为 0 阶的 Tensor；向量就是 Rank 为 1 阶的 Tensor；矩阵就是 Rank 为 2 阶的 Tensor"
   ]
  },
  {
   "cell_type": "code",
   "execution_count": 6,
   "metadata": {},
   "outputs": [],
   "source": [
    "import torch\n",
    "import numpy as np"
   ]
  },
  {
   "cell_type": "markdown",
   "metadata": {},
   "source": [
    "#### 创建张量基本用法\n",
    "`torch.tensor(data, dtype=None, device=None,requires_grad=False)`\n",
    "* data，要传入模型的数据\n",
    "* dtype，它声明了你需要返回一个怎样类型的 Tensor，具体类型可以参考前面表格里列举的 Tensor 的 8 种类型。\n",
    "* requires_grad，用于说明当前量是否需要在计算中保留对应的梯度信息。\n",
    "* device，这个参数指定了数据要返回到的设备\n",
    "* requires_grad，用于说明当前量是否需要在计算中保留对应的梯度信息。只有当一个 Tensor 设置 requires_grad 为 True 的情况下，才会对这个 Tensor 以及由这个 Tensor 计算出来的其他 Tensor 进行求导，然后将导数值存在 Tensor 的 grad 属性中，便于优化器来更新参数。\n",
    "* 把 requires_grad 设置成 true 或者 false 要灵活处理。如果是训练过程就要设置为 true，目的是方便求导、更新参数。而到了验证或者测试过程，我们的目的是检查当前模型的泛化能力，那就要把 requires_grad 设置成 Fasle，避免这个参数根据 loss 自动更新。"
   ]
  },
  {
   "cell_type": "code",
   "execution_count": 5,
   "metadata": {},
   "outputs": [
    {
     "name": "stdout",
     "output_type": "stream",
     "text": [
      "tensor([1., 2., 3.])\n"
     ]
    }
   ],
   "source": [
    "# 使用 torch\n",
    "x = torch.tensor([1.0, 2.0, 3.0])\n",
    "print(x)"
   ]
  },
  {
   "cell_type": "code",
   "execution_count": 8,
   "metadata": {},
   "outputs": [
    {
     "name": "stdout",
     "output_type": "stream",
     "text": [
      "tensor([1, 2, 3], dtype=torch.int32)\n"
     ]
    }
   ],
   "source": [
    "# 从numpy中转换数据\n",
    "ndarry = np.array([1,2,3])\n",
    "tensor_array = torch.from_numpy(ndarry)\n",
    "print(tensor_array)"
   ]
  }
 ],
 "metadata": {
  "kernelspec": {
   "display_name": "python-learning",
   "language": "python",
   "name": "python3"
  },
  "language_info": {
   "codemirror_mode": {
    "name": "ipython",
    "version": 3
   },
   "file_extension": ".py",
   "mimetype": "text/x-python",
   "name": "python",
   "nbconvert_exporter": "python",
   "pygments_lexer": "ipython3",
   "version": "3.11.10"
  }
 },
 "nbformat": 4,
 "nbformat_minor": 2
}
