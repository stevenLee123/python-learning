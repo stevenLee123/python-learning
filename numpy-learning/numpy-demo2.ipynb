{
 "cells": [
  {
   "cell_type": "markdown",
   "metadata": {},
   "source": [
    "### numpy在深度学习中常用的操作\n",
    "* 使用pillow 读取图片"
   ]
  },
  {
   "cell_type": "code",
   "execution_count": 1,
   "metadata": {},
   "outputs": [
    {
     "name": "stdout",
     "output_type": "stream",
     "text": [
      "(28, 28)\n"
     ]
    }
   ],
   "source": [
    "import numpy as np\n",
    "from PIL import Image\n",
    "im = Image.open('7.png')\n",
    "print(im.size)\n"
   ]
  },
  {
   "cell_type": "code",
   "execution_count": 2,
   "metadata": {},
   "outputs": [
    {
     "name": "stdout",
     "output_type": "stream",
     "text": [
      "(28, 28, 3)\n"
     ]
    }
   ],
   "source": [
    "\n",
    "\n",
    "im_pillow = np.asarray(im)\n",
    "# print(im_pillow)\n",
    "\n",
    "print(im_pillow.shape)"
   ]
  },
  {
   "cell_type": "code",
   "execution_count": 3,
   "metadata": {},
   "outputs": [
    {
     "name": "stdout",
     "output_type": "stream",
     "text": [
      "[[255 255 255 255 255 255 255 255 255 255 255 255 255 255 255 255 255 255\n",
      "  255 255 255 255 255 255 255 255 255 255]\n",
      " [255 255 255 255 255 255 255 255 255 255 255 255 255 255 255 255 255 255\n",
      "  255 255 255 255 255 255 255 255 255 255]\n",
      " [255 255 255 255 255 255 255 255 255 255 255 255 255 255 255 255 255 255\n",
      "  255 255 255 255 255 255 255 255 255 255]\n",
      " [255 255 255 255 255 255 255 255 255 255 255 255 255 255 255 255 255 255\n",
      "  255 255 255 255 255 255 255 255 255 255]\n",
      " [255 255 255 255 255 255 255 255 255 255 255 255 255 255 255 255 255 255\n",
      "  255 255 255 255 255 255 255 255 255 255]\n",
      " [255 255 255 255 255 255 255 255 255 255 255 255 255 255 255 255 255 255\n",
      "  255 255 255 255 255 255 255 255 255 255]\n",
      " [255 255 255 255 255 255 255 255 255 255 255 255 255 255 255 255 255 255\n",
      "  255 255 255 255 255 255 255 255 255 255]\n",
      " [255 255 255 255 255 255 255 255 255 255 255 255 255 255 255 255 255 255\n",
      "  255 255 255 255 255 255 255 255 255 255]\n",
      " [255 255 255 255 255 255 255 255 255   0   0   0   0   0   0   0   0 255\n",
      "  255 255 255 255 255 255 255 255 255 255]\n",
      " [255 255 255 255 255 255 255 255 255 255 255 255 255 255 255 255   0 255\n",
      "  255 255 255 255 255 255 255 255 255 255]\n",
      " [255 255 255 255 255 255 255 255 255 255 255 255 255 255 255 255   0 255\n",
      "  255 255 255 255 255 255 255 255 255 255]\n",
      " [255 255 255 255 255 255 255 255 255 255 255 255 255 255 255 255   0 255\n",
      "  255 255 255 255 255 255 255 255 255 255]\n",
      " [255 255 255 255 255 255 255 255 255 255 255 255 255 255 255 255   0 255\n",
      "  255 255 255 255 255 255 255 255 255 255]\n",
      " [255 255 255 255 255 255 255 255 255 255 255 255 255 255 255   0   0 255\n",
      "  255 255 255 255 255 255 255 255 255 255]\n",
      " [255 255 255 255 255 255 255 255 255 255 255 255 255 255 255   0 255 255\n",
      "  255 255 255 255 255 255 255 255 255 255]\n",
      " [255 255 255 255 255 255 255 255 255 255 255 255 255 255 255   0 255 255\n",
      "  255 255 255 255 255 255 255 255 255 255]\n",
      " [255 255 255 255 255 255 255 255 255 255 255 255 255 255 255   0 255 255\n",
      "  255 255 255 255 255 255 255 255 255 255]\n",
      " [255 255 255 255 255 255 255 255 255 255 255 255 255 255   0   0 255 255\n",
      "  255 255 255 255 255 255 255 255 255 255]\n",
      " [255 255 255 255 255 255 255 255 255 255 255 255 255 255   0 255 255 255\n",
      "  255 255 255 255 255 255 255 255 255 255]\n",
      " [255 255 255 255 255 255 255 255 255 255 255 255 255 255   0 255 255 255\n",
      "  255 255 255 255 255 255 255 255 255 255]\n",
      " [255 255 255 255 255 255 255 255 255 255 255 255 255   0   0 255 255 255\n",
      "  255 255 255 255 255 255 255 255 255 255]\n",
      " [255 255 255 255 255 255 255 255 255 255 255 255 255   0 255 255 255 255\n",
      "  255 255 255 255 255 255 255 255 255 255]\n",
      " [255 255 255 255 255 255 255 255 255 255 255 255   0   0 255 255 255 255\n",
      "  255 255 255 255 255 255 255 255 255 255]\n",
      " [255 255 255 255 255 255 255 255 255 255 255 255   0 255 255 255 255 255\n",
      "  255 255 255 255 255 255 255 255 255 255]\n",
      " [255 255 255 255 255 255 255 255 255 255 255 255   0 255 255 255 255 255\n",
      "  255 255 255 255 255 255 255 255 255 255]\n",
      " [255 255 255 255 255 255 255 255 255 255 255 255   0 255 255 255 255 255\n",
      "  255 255 255 255 255 255 255 255 255 255]\n",
      " [255 255 255 255 255 255 255 255 255 255 255 255 255 255 255 255 255 255\n",
      "  255 255 255 255 255 255 255 255 255 255]\n",
      " [255 255 255 255 255 255 255 255 255 255 255 255 255 255 255 255 255 255\n",
      "  255 255 255 255 255 255 255 255 255 255]]\n"
     ]
    }
   ],
   "source": [
    "## 取0通道的所有数据\n",
    "im_pillow_c1 = im_pillow[:, :, 0]\n",
    "im_pillow_c2 = im_pillow[:, :, 1]\n",
    "im_pillow_c3 = im_pillow[:, :, 2]\n",
    "print(im_pillow_c1)"
   ]
  },
  {
   "cell_type": "code",
   "execution_count": 4,
   "metadata": {},
   "outputs": [
    {
     "data": {
      "text/plain": [
       "(28, 28, 1)"
      ]
     },
     "execution_count": 4,
     "metadata": {},
     "output_type": "execute_result"
    }
   ],
   "source": [
    "zeros = np.zeros((im_pillow.shape[0], im_pillow.shape[1], 1))\n",
    "zeros.shape\n"
   ]
  },
  {
   "cell_type": "code",
   "execution_count": 5,
   "metadata": {},
   "outputs": [
    {
     "data": {
      "text/plain": [
       "(28, 28)"
      ]
     },
     "execution_count": 5,
     "metadata": {},
     "output_type": "execute_result"
    }
   ],
   "source": [
    "im_pillow_c1.shape"
   ]
  },
  {
   "cell_type": "code",
   "execution_count": 6,
   "metadata": {},
   "outputs": [
    {
     "data": {
      "text/plain": [
       "(28, 28, 1)"
      ]
     },
     "execution_count": 6,
     "metadata": {},
     "output_type": "execute_result"
    }
   ],
   "source": [
    "zeros.shape"
   ]
  },
  {
   "cell_type": "markdown",
   "metadata": {},
   "source": [
    "#### 使用 np.newaxis 让数组增加一个维度\n",
    "* PyTorch 中的函数名 unsqueeze() 与 numpy 中的函数名 newaxis() 功能相同"
   ]
  },
  {
   "cell_type": "code",
   "execution_count": 7,
   "metadata": {},
   "outputs": [
    {
     "data": {
      "text/plain": [
       "(28, 28, 1)"
      ]
     },
     "execution_count": 7,
     "metadata": {},
     "output_type": "execute_result"
    }
   ],
   "source": [
    "im_pillow_c1 = im_pillow_c1[:, :, np.newaxis]\n",
    "im_pillow_c1.shape"
   ]
  },
  {
   "cell_type": "markdown",
   "metadata": {},
   "source": [
    "### 维度扩展\n",
    "* 使用np.concatenate() 函数进行扩展\n",
    "* "
   ]
  },
  {
   "cell_type": "code",
   "execution_count": 8,
   "metadata": {},
   "outputs": [
    {
     "data": {
      "text/plain": [
       "(28, 28, 3)"
      ]
     },
     "execution_count": 8,
     "metadata": {},
     "output_type": "execute_result"
    }
   ],
   "source": [
    "# 将矩阵沿着axis=2 方向一起拼接\n",
    "# 拼接两个zero矩阵\n",
    "im_pillow_c1_3ch = np.concatenate((im_pillow_c1, zeros, zeros),axis=2)\n",
    "im_pillow_c1_3ch.shape"
   ]
  },
  {
   "cell_type": "code",
   "execution_count": 9,
   "metadata": {},
   "outputs": [
    {
     "name": "stdout",
     "output_type": "stream",
     "text": [
      "(28, 28, 3)\n",
      "(28, 28, 3)\n",
      "(28, 28, 3)\n",
      "[[[  0.   0. 255.]\n",
      "  [  0.   0. 255.]\n",
      "  [  0.   0. 255.]\n",
      "  ...\n",
      "  [  0.   0. 255.]\n",
      "  [  0.   0. 255.]\n",
      "  [  0.   0. 255.]]\n",
      "\n",
      " [[  0.   0. 255.]\n",
      "  [  0.   0. 255.]\n",
      "  [  0.   0. 255.]\n",
      "  ...\n",
      "  [  0.   0. 255.]\n",
      "  [  0.   0. 255.]\n",
      "  [  0.   0. 255.]]\n",
      "\n",
      " [[  0.   0. 255.]\n",
      "  [  0.   0. 255.]\n",
      "  [  0.   0. 255.]\n",
      "  ...\n",
      "  [  0.   0. 255.]\n",
      "  [  0.   0. 255.]\n",
      "  [  0.   0. 255.]]\n",
      "\n",
      " ...\n",
      "\n",
      " [[  0.   0. 255.]\n",
      "  [  0.   0. 255.]\n",
      "  [  0.   0. 255.]\n",
      "  ...\n",
      "  [  0.   0. 255.]\n",
      "  [  0.   0. 255.]\n",
      "  [  0.   0. 255.]]\n",
      "\n",
      " [[  0.   0. 255.]\n",
      "  [  0.   0. 255.]\n",
      "  [  0.   0. 255.]\n",
      "  ...\n",
      "  [  0.   0. 255.]\n",
      "  [  0.   0. 255.]\n",
      "  [  0.   0. 255.]]\n",
      "\n",
      " [[  0.   0. 255.]\n",
      "  [  0.   0. 255.]\n",
      "  [  0.   0. 255.]\n",
      "  ...\n",
      "  [  0.   0. 255.]\n",
      "  [  0.   0. 255.]\n",
      "  [  0.   0. 255.]]]\n"
     ]
    }
   ],
   "source": [
    "im_pillow_c2_3ch = np.zeros(im_pillow.shape)\n",
    "print(im_pillow_c2_3ch.shape)\n",
    "im_pillow_c2_3ch[:,:,1] = im_pillow_c2\n",
    "print(im_pillow_c2_3ch.shape)\n",
    "# print(im_pillow_c2_3ch)\n",
    "\n",
    "im_pillow_c3_3ch = np.zeros(im_pillow.shape)\n",
    "im_pillow_c3_3ch[:,:,2] = im_pillow_c3\n",
    "print(im_pillow_c3_3ch.shape)\n",
    "print(im_pillow_c3_3ch)"
   ]
  },
  {
   "cell_type": "code",
   "execution_count": 10,
   "metadata": {},
   "outputs": [
    {
     "data": {
      "image/png": "[encoded data removed]",
      "text/plain": [
       "<Figure size 640x480 with 4 Axes>"
      ]
     },
     "metadata": {},
     "output_type": "display_data"
    }
   ],
   "source": [
    "from matplotlib import pyplot as plt\n",
    "plt.subplot(2, 2, 1)\n",
    "plt.title('Origin Image')\n",
    "plt.imshow(im_pillow)\n",
    "plt.axis('off')\n",
    "plt.subplot(2, 2, 2)\n",
    "plt.title('Red Channel')\n",
    "plt.imshow(im_pillow_c1_3ch.astype(np.uint8))\n",
    "plt.axis('off')\n",
    "plt.subplot(2, 2, 3)\n",
    "plt.title('Green Channel')\n",
    "plt.imshow(im_pillow_c2_3ch.astype(np.uint8))\n",
    "plt.axis('off')\n",
    "plt.subplot(2, 2, 4)\n",
    "plt.title('Blue Channel')\n",
    "plt.imshow(im_pillow_c3_3ch.astype(np.uint8))\n",
    "plt.axis('off')\n",
    "plt.savefig('./rgb_pillow.png', dpi=150)"
   ]
  },
  {
   "cell_type": "markdown",
   "metadata": {},
   "source": [
    "### numpy数组的深浅拷贝\n",
    "* 浅拷贝或称视图，指的是与原数组共享数据的数组\n",
    "* 深拷贝又称副本，也就是完全复制原有数组，创建一个新的数组，修改新的数组不会影响原数组。\n",
    "* np.array() 属于深拷贝，np.asarray() 则是浅拷贝。\n",
    "* view()是浅拷贝，copy()是深拷贝"
   ]
  },
  {
   "cell_type": "code",
   "execution_count": 11,
   "metadata": {},
   "outputs": [
    {
     "name": "stdout",
     "output_type": "stream",
     "text": [
      "(6,)\n",
      "[0 1 2 3 4 5]\n",
      "(6,)\n",
      "[[0 1 2]\n",
      " [3 4 5]]\n",
      "[111   1   2   3   4   5]\n",
      "[[111   1   2]\n",
      " [  3   4   5]]\n",
      "[111   1   2   3   4   5]\n",
      "[[115   1   2]\n",
      " [  3   4   5]]\n",
      "(6,)\n",
      "(2, 3)\n"
     ]
    }
   ],
   "source": [
    "a = np.arange(6)\n",
    "print(a.shape)\n",
    "print(a)\n",
    "# 使用浅拷贝会影响原有被拷贝数组\n",
    "b = a.view()\n",
    "print(b.shape)\n",
    "b.shape = 2, 3\n",
    "print(b)\n",
    "b[0,0] = 111\n",
    "print(a)\n",
    "print(b)\n",
    "c = a.copy()\n",
    "c.shape = 2, 3\n",
    "c[0,0] = 115\n",
    "print(a)\n",
    "print(c)\n",
    "print(a.shape)\n",
    "print(c.shape)"
   ]
  },
  {
   "cell_type": "code",
   "execution_count": 12,
   "metadata": {},
   "outputs": [
    {
     "name": "stdout",
     "output_type": "stream",
     "text": [
      "[[[255   0   0]\n",
      "  [255   0   0]\n",
      "  [255   0   0]\n",
      "  ...\n",
      "  [255   0   0]\n",
      "  [255   0   0]\n",
      "  [255   0   0]]\n",
      "\n",
      " [[255   0   0]\n",
      "  [255   0   0]\n",
      "  [255   0   0]\n",
      "  ...\n",
      "  [255   0   0]\n",
      "  [255   0   0]\n",
      "  [255   0   0]]\n",
      "\n",
      " [[255   0   0]\n",
      "  [255   0   0]\n",
      "  [255   0   0]\n",
      "  ...\n",
      "  [255   0   0]\n",
      "  [255   0   0]\n",
      "  [255   0   0]]\n",
      "\n",
      " ...\n",
      "\n",
      " [[255   0   0]\n",
      "  [255   0   0]\n",
      "  [255   0   0]\n",
      "  ...\n",
      "  [255   0   0]\n",
      "  [255   0   0]\n",
      "  [255   0   0]]\n",
      "\n",
      " [[255   0   0]\n",
      "  [255   0   0]\n",
      "  [255   0   0]\n",
      "  ...\n",
      "  [255   0   0]\n",
      "  [255   0   0]\n",
      "  [255   0   0]]\n",
      "\n",
      " [[255   0   0]\n",
      "  [255   0   0]\n",
      "  [255   0   0]\n",
      "  ...\n",
      "  [255   0   0]\n",
      "  [255   0   0]\n",
      "  [255   0   0]]]\n"
     ]
    }
   ],
   "source": [
    "# 使用深拷贝\n",
    "im_pillow = np.array(im)\n",
    "# 行列以及1通道（包含）之后的通道都置为0\n",
    "im_pillow[:,:,1:]=0\n",
    "print(im_pillow)"
   ]
  },
  {
   "cell_type": "markdown",
   "metadata": {},
   "source": [
    "### 统计概率时用的方法"
   ]
  },
  {
   "cell_type": "code",
   "execution_count": 13,
   "metadata": {},
   "outputs": [],
   "source": [
    "probs = np.array([0.075, 0.15, 0.075, 0.15, 0.0, 0.05, 0.05, 0.2, 0.25])"
   ]
  },
  {
   "cell_type": "code",
   "execution_count": 14,
   "metadata": {},
   "outputs": [
    {
     "name": "stdout",
     "output_type": "stream",
     "text": [
      "8\n"
     ]
    }
   ],
   "source": [
    "#求最大值索引\n",
    "maxIndex = np.argmax(probs)\n",
    "print(maxIndex)"
   ]
  },
  {
   "cell_type": "code",
   "execution_count": 15,
   "metadata": {},
   "outputs": [
    {
     "name": "stdout",
     "output_type": "stream",
     "text": [
      "[8 7 1 3 0 2 5 6 4]\n",
      "[8 7 1]\n"
     ]
    }
   ],
   "source": [
    "# np.argsort()排序后的原始索引\n",
    "probs_idx_sort = np.argsort(-probs)  #注意，加了负号，是按降序排序\n",
    "print(probs_idx_sort)\n",
    "#概率最大的前三个值的坐标\n",
    "print(probs_idx_sort[:3])"
   ]
  },
  {
   "cell_type": "markdown",
   "metadata": {},
   "source": [
    "#### display函数\n",
    "* IPython.display模块中的display函数，用于输出富文本格式的信息，比如HTML、图片等，而不仅仅是纯文本。这对于创建交互式文档非常有用。"
   ]
  },
  {
   "cell_type": "code",
   "execution_count": 16,
   "metadata": {},
   "outputs": [
    {
     "data": {
      "text/html": [
       "<div>\n",
       "<style scoped>\n",
       "    .dataframe tbody tr th:only-of-type {\n",
       "        vertical-align: middle;\n",
       "    }\n",
       "\n",
       "    .dataframe tbody tr th {\n",
       "        vertical-align: top;\n",
       "    }\n",
       "\n",
       "    .dataframe thead th {\n",
       "        text-align: right;\n",
       "    }\n",
       "</style>\n",
       "<table border=\"1\" class=\"dataframe\">\n",
       "  <thead>\n",
       "    <tr style=\"text-align: right;\">\n",
       "      <th></th>\n",
       "      <th>Name</th>\n",
       "      <th>Age</th>\n",
       "    </tr>\n",
       "  </thead>\n",
       "  <tbody>\n",
       "    <tr>\n",
       "      <th>0</th>\n",
       "      <td>Tom</td>\n",
       "      <td>20</td>\n",
       "    </tr>\n",
       "    <tr>\n",
       "      <th>1</th>\n",
       "      <td>Nick</td>\n",
       "      <td>21</td>\n",
       "    </tr>\n",
       "    <tr>\n",
       "      <th>2</th>\n",
       "      <td>John</td>\n",
       "      <td>19</td>\n",
       "    </tr>\n",
       "  </tbody>\n",
       "</table>\n",
       "</div>"
      ],
      "text/plain": [
       "   Name  Age\n",
       "0   Tom   20\n",
       "1  Nick   21\n",
       "2  John   19"
      ]
     },
     "metadata": {},
     "output_type": "display_data"
    }
   ],
   "source": [
    "import pandas as pd\n",
    "from IPython.display import display\n",
    "\n",
    "data = {'Name': ['Tom', 'Nick', 'John'], 'Age': [20, 21, 19]}\n",
    "df = pd.DataFrame(data)\n",
    "\n",
    "display(df)"
   ]
  }
 ],
 "metadata": {
  "kernelspec": {
   "display_name": "python-learning",
   "language": "python",
   "name": "python3"
  },
  "language_info": {
   "codemirror_mode": {
    "name": "ipython",
    "version": 3
   },
   "file_extension": ".py",
   "mimetype": "text/x-python",
   "name": "python",
   "nbconvert_exporter": "python",
   "pygments_lexer": "ipython3",
   "version": "3.11.10"
  }
 },
 "nbformat": 4,
 "nbformat_minor": 2
}
