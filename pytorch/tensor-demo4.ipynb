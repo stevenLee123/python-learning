{
 "cells": [
  {
   "cell_type": "markdown",
   "metadata": {},
   "source": [
    "### 构建网络\n",
    "* 构建线性拟合模型\n",
    "* 线性模型 $y=wx+b$"
   ]
  },
  {
   "cell_type": "code",
   "execution_count": 3,
   "metadata": {},
   "outputs": [
    {
     "name": "stdout",
     "output_type": "stream",
     "text": [
      "[ -9 -10   5  -9   4  -6 -10   5  -7  -8  -8   4   1  -2  -1   9  -5   8\n",
      "   5   9 -10  -7   7 -10  -7  -3   0  -6  -2  -7]\n",
      "[-13, -15, 13, -13, 13, -8, -15, 15, -11, -12, -12, 13, 5, 0, 2, 21, -5, 21, 13, 23, -16, -11, 19, -16, -10, -1, 4, -9, -1, -9]\n"
     ]
    },
    {
     "data": {
      "text/plain": [
       "[<matplotlib.lines.Line2D at 0x1fd2c666010>]"
      ]
     },
     "execution_count": 3,
     "metadata": {},
     "output_type": "execute_result"
    },
    {
     "data": {
      "image/png": "[encoded data removed]",
      "text/plain": [
       "<Figure size 640x480 with 1 Axes>"
      ]
     },
     "metadata": {},
     "output_type": "display_data"
    }
   ],
   "source": [
    "# 模拟数据\n",
    "import numpy as np\n",
    "import random\n",
    "from matplotlib import pyplot as plt\n",
    "\n",
    "w = 2\n",
    "b = 3\n",
    "xlim = [-10, 10]\n",
    "x_train = np.random.randint(low=xlim[0], high=xlim[1], size=30)\n",
    "\n",
    "y_train = [w * x + b + random.randint(0,2) for x in x_train]\n",
    "print(x_train)\n",
    "print(y_train)\n",
    "\n",
    "plt.plot(x_train, y_train, 'bo')"
   ]
  },
  {
   "cell_type": "markdown",
   "metadata": {},
   "source": [
    "### 生成模型对象\n"
   ]
  },
  {
   "cell_type": "code",
   "execution_count": 5,
   "metadata": {},
   "outputs": [],
   "source": [
    "\n",
    "import torch\n",
    "from torch import nn\n",
    "# 线性模型的定义，继承自父类nn.Module\n",
    "class LinearModel(nn.Module):\n",
    "  def __init__(self):\n",
    "    super().__init__()\n",
    "    # w参数,随机参数\n",
    "    self.weight = nn.Parameter(torch.randn(1))\n",
    "    # b参数，随机参数\n",
    "    self.bias = nn.Parameter(torch.randn(1))\n",
    "\n",
    "  def forward(self, input):\n",
    "    return (input * self.weight) + self.bias"
   ]
  },
  {
   "cell_type": "code",
   "execution_count": 7,
   "metadata": {},
   "outputs": [
    {
     "name": "stdout",
     "output_type": "stream",
     "text": [
      "tensor(3)\n",
      "tensor([-6.8408], grad_fn=<AddBackward0>)\n"
     ]
    }
   ],
   "source": [
    "model = LinearModel()\n",
    "x = torch.tensor(3)\n",
    "print(x)\n",
    "y = model(x)\n",
    "print(y)"
   ]
  },
  {
   "cell_type": "code",
   "execution_count": 8,
   "metadata": {},
   "outputs": [],
   "source": [
    "# 进行训练\n",
    "model = LinearModel()\n",
    "# 定义优化器,使用随机梯度下降算法\n",
    "optimizer = torch.optim.SGD(model.parameters(), lr=1e-4, weight_decay=1e-2, momentum=0.9)\n",
    "# 生成目标张量\n",
    "y_train = torch.tensor(y_train, dtype=torch.float32)\n",
    "\n",
    "for _ in range(1000):\n",
    "    input = torch.from_numpy(x_train)\n",
    "    output = model(input)\n",
    "    # 计算均方误差\n",
    "    loss = nn.MSELoss()(output, y_train)\n",
    "    # 将模型中所有参数的梯度清零\n",
    "    model.zero_grad()\n",
    "    # 反向传播\n",
    "    loss.backward()\n",
    "    # 根据计算出的梯度更新模型的参数\n",
    "    optimizer.step()"
   ]
  },
  {
   "cell_type": "code",
   "execution_count": 9,
   "metadata": {},
   "outputs": [
    {
     "name": "stdout",
     "output_type": "stream",
     "text": [
      "('weight', Parameter containing:\n",
      "tensor([1.9567], requires_grad=True))\n",
      "('bias', Parameter containing:\n",
      "tensor([3.3625], requires_grad=True))\n"
     ]
    }
   ],
   "source": [
    "# 查看参数信息\n",
    "for parameter in model.named_parameters():\n",
    "  print(parameter)\n",
    "# 输出："
   ]
  },
  {
   "cell_type": "code",
   "execution_count": 26,
   "metadata": {},
   "outputs": [
    {
     "name": "stdout",
     "output_type": "stream",
     "text": [
      "1.956662654876709\n",
      "3.362513780593872\n"
     ]
    }
   ],
   "source": [
    "params = model.named_parameters()\n",
    "# print(next(params)[1])\n",
    "w = next(params)[1][0].item()\n",
    "print(w)\n",
    "b = next(params)[1][0].item()\n",
    "print(b)"
   ]
  },
  {
   "cell_type": "code",
   "execution_count": 20,
   "metadata": {},
   "outputs": [
    {
     "name": "stdout",
     "output_type": "stream",
     "text": [
      "tensor(1)\n"
     ]
    }
   ],
   "source": [
    "# 创建一个二维张量\n",
    "tensor = torch.tensor([[1, 2, 3], [4, 5, 6]])\n",
    "\n",
    "# 获取第一行的第一个元素\n",
    "first_element = tensor[0, 0]\n",
    "print(first_element)"
   ]
  },
  {
   "cell_type": "code",
   "execution_count": 29,
   "metadata": {},
   "outputs": [
    {
     "name": "stdout",
     "output_type": "stream",
     "text": [
      "1.956662654876709\n",
      "3.362513780593872\n"
     ]
    },
    {
     "name": "stderr",
     "output_type": "stream",
     "text": [
      "C:\\Users\\Steven\\AppData\\Local\\Temp\\ipykernel_17540\\4233362385.py:26: UserWarning: color is redundantly defined by the 'color' keyword argument and the fmt string \"bo\" (-> color='b'). The keyword argument will take precedence.\n",
      "  plt.plot(x_train, y_train, 'bo',color='red', label='Training Data')\n"
     ]
    },
    {
     "data": {
      "image/png": "[encoded data removed]",
      "text/plain": [
       "<Figure size 640x480 with 1 Axes>"
      ]
     },
     "metadata": {},
     "output_type": "display_data"
    }
   ],
   "source": [
    "import matplotlib.pyplot as plt\n",
    "import numpy as np\n",
    "\n",
    "# 定义直线的参数\n",
    "w = 2  # 斜率\n",
    "b = 1  # 截距\n",
    "\n",
    "# 生成 x 值的范围\n",
    "x = np.linspace(-10, 10, 400)  # 从 -10 到 10 生成 400 个点\n",
    "\n",
    "# 计算对应的 y 值\n",
    "params = model.named_parameters()\n",
    "# print(next(params)[1])\n",
    "w = next(params)[1][0].item()\n",
    "print(w)\n",
    "b = next(params)[1][0].item()\n",
    "print(b)\n",
    "y = w * x + b\n",
    "\n",
    "# 创建图形和轴\n",
    "plt.figure()\n",
    "\n",
    "# 绘制直线\n",
    "plt.plot(x, y, 'b-', label=f'y={w}x+{b}')  # 'b-' 表示蓝色实线，label用于图例\n",
    "\n",
    "plt.plot(x_train, y_train, 'bo',color='red', label='Training Data')\n",
    "\n",
    "# 添加标题和标签\n",
    "plt.title('Linear Function y = wx + b')\n",
    "plt.xlabel('X-axis')\n",
    "plt.ylabel('Y-axis')\n",
    "\n",
    "# 设置网格线\n",
    "plt.grid(True)\n",
    "\n",
    "# 显示图例\n",
    "plt.legend()\n",
    "\n",
    "# 显示图形\n",
    "plt.show()"
   ]
  },
  {
   "cell_type": "markdown",
   "metadata": {},
   "source": [
    "#### 保存训练好的模型\n",
    "1. 通过`model.state_dict()` 来保存，加载模型是需要创建模型\n",
    "2. 通过`torch.save(model)` 保存模型，不需要加载网络结构了"
   ]
  },
  {
   "cell_type": "code",
   "execution_count": 32,
   "metadata": {},
   "outputs": [
    {
     "data": {
      "text/plain": [
       "OrderedDict([('weight', tensor([1.9567])), ('bias', tensor([3.3625]))])"
      ]
     },
     "execution_count": 32,
     "metadata": {},
     "output_type": "execute_result"
    }
   ],
   "source": [
    "model.state_dict()"
   ]
  },
  {
   "cell_type": "code",
   "execution_count": 31,
   "metadata": {},
   "outputs": [],
   "source": [
    "torch.save(model.state_dict(), './linear_model.pth')"
   ]
  },
  {
   "cell_type": "code",
   "execution_count": 34,
   "metadata": {},
   "outputs": [
    {
     "name": "stdout",
     "output_type": "stream",
     "text": [
      "('weight', Parameter containing:\n",
      "tensor([1.9567], requires_grad=True))\n",
      "('bias', Parameter containing:\n",
      "tensor([3.3625], requires_grad=True))\n"
     ]
    },
    {
     "name": "stderr",
     "output_type": "stream",
     "text": [
      "C:\\Users\\Steven\\AppData\\Local\\Temp\\ipykernel_17540\\4078875238.py:5: FutureWarning: You are using `torch.load` with `weights_only=False` (the current default value), which uses the default pickle module implicitly. It is possible to construct malicious pickle data which will execute arbitrary code during unpickling (See https://github.com/pytorch/pytorch/blob/main/SECURITY.md#untrusted-models for more details). In a future release, the default value for `weights_only` will be flipped to `True`. This limits the functions that could be executed during unpickling. Arbitrary objects will no longer be allowed to be loaded via this mode unless they are explicitly allowlisted by the user via `torch.serialization.add_safe_globals`. We recommend you start setting `weights_only=True` for any use case where you don't have full control of the loaded file. Please open an issue on GitHub for any issues related to this experimental feature.\n",
      "  linear_model.load_state_dict(torch.load('./linear_model.pth'))\n"
     ]
    }
   ],
   "source": [
    "#加载模型\n",
    "# 先定义网络结构\n",
    "linear_model = LinearModel()\n",
    "# 加载保存的参数\n",
    "linear_model.load_state_dict(torch.load('./linear_model.pth'))\n",
    "linear_model.eval()\n",
    "for parameter in linear_model.named_parameters():\n",
    "  print(parameter)\n",
    "\n"
   ]
  },
  {
   "cell_type": "code",
   "execution_count": 35,
   "metadata": {},
   "outputs": [
    {
     "name": "stdout",
     "output_type": "stream",
     "text": [
      "('weight', Parameter containing:\n",
      "tensor([1.9567], requires_grad=True))\n",
      "('bias', Parameter containing:\n",
      "tensor([3.3625], requires_grad=True))\n"
     ]
    },
    {
     "name": "stderr",
     "output_type": "stream",
     "text": [
      "C:\\Users\\Steven\\AppData\\Local\\Temp\\ipykernel_17540\\728832465.py:4: FutureWarning: You are using `torch.load` with `weights_only=False` (the current default value), which uses the default pickle module implicitly. It is possible to construct malicious pickle data which will execute arbitrary code during unpickling (See https://github.com/pytorch/pytorch/blob/main/SECURITY.md#untrusted-models for more details). In a future release, the default value for `weights_only` will be flipped to `True`. This limits the functions that could be executed during unpickling. Arbitrary objects will no longer be allowed to be loaded via this mode unless they are explicitly allowlisted by the user via `torch.serialization.add_safe_globals`. We recommend you start setting `weights_only=True` for any use case where you don't have full control of the loaded file. Please open an issue on GitHub for any issues related to this experimental feature.\n",
      "  linear_model_2 = torch.load('./linear_model_with_arc.pth')\n"
     ]
    }
   ],
   "source": [
    "# 保存整个模型\n",
    "torch.save(model, './linear_model_with_arc.pth')\n",
    "# 加载模型，不需要创建网络了\n",
    "linear_model_2 = torch.load('./linear_model_with_arc.pth')\n",
    "linear_model_2.eval()\n",
    "for parameter in linear_model_2.named_parameters():\n",
    "  print(parameter)\n"
   ]
  }
 ],
 "metadata": {
  "kernelspec": {
   "display_name": "python-learning",
   "language": "python",
   "name": "python3"
  },
  "language_info": {
   "codemirror_mode": {
    "name": "ipython",
    "version": 3
   },
   "file_extension": ".py",
   "mimetype": "text/x-python",
   "name": "python",
   "nbconvert_exporter": "python",
   "pygments_lexer": "ipython3",
   "version": "3.11.10"
  }
 },
 "nbformat": 4,
 "nbformat_minor": 2
}
