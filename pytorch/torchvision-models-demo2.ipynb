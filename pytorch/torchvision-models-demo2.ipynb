{
 "cells": [
  {
   "cell_type": "markdown",
   "metadata": {},
   "source": [
    "### 内置模型\n",
    "* `torchvision.models` 模块中包含了常见网络模型结构的定义，这些网络模型可以解决以下四大类问题：图像分类、图像分割、物体检测和视频分类。图像分类、物体检测与图像分割的示意图如下图所示。"
   ]
  },
  {
   "cell_type": "code",
   "execution_count": 2,
   "metadata": {},
   "outputs": [],
   "source": [
    "import torchvision.models as models\n"
   ]
  },
  {
   "cell_type": "code",
   "execution_count": 5,
   "metadata": {},
   "outputs": [],
   "source": [
    "googlenet = models.googlenet()"
   ]
  },
  {
   "cell_type": "code",
   "execution_count": 7,
   "metadata": {},
   "outputs": [
    {
     "name": "stdout",
     "output_type": "stream",
     "text": [
      "fc_in_features: 1024\n",
      "fc_out_features: 1000\n"
     ]
    }
   ],
   "source": [
    "import torch\n",
    "import torchvision.models as models\n",
    "\n",
    "# 加载预训练模型\n",
    "googlenet = models.googlenet(pretrained=True)\n",
    "\n",
    "# 提取分类层的输入参数\n",
    "fc_in_features = googlenet.fc.in_features\n",
    "print(\"fc_in_features:\", fc_in_features)\n",
    "\n",
    "# 查看分类层的输出参数\n",
    "fc_out_features = googlenet.fc.out_features\n",
    "print(\"fc_out_features:\", fc_out_features)\n",
    "\n",
    "# 修改预训练模型的输出分类数(在图像分类原理中会具体介绍torch.nn.Linear)\n",
    "googlenet.fc = torch.nn.Linear(fc_in_features, 10)\n"
   ]
  }
 ],
 "metadata": {
  "kernelspec": {
   "display_name": "python-learning",
   "language": "python",
   "name": "python3"
  },
  "language_info": {
   "codemirror_mode": {
    "name": "ipython",
    "version": 3
   },
   "file_extension": ".py",
   "mimetype": "text/x-python",
   "name": "python",
   "nbconvert_exporter": "python",
   "pygments_lexer": "ipython3",
   "version": "3.11.10"
  }
 },
 "nbformat": 4,
 "nbformat_minor": 2
}
